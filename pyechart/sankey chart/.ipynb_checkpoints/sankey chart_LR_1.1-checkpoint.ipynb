{
 "cells": [
  {
   "cell_type": "code",
   "execution_count": 1,
   "metadata": {
    "scrolled": true
   },
   "outputs": [],
   "source": [
    "from pyecharts import Sankey\n",
    "import pandas as pd\n"
   ]
  },
  {
   "cell_type": "code",
   "execution_count": 2,
   "metadata": {},
   "outputs": [],
   "source": [
    "def Cnode_link(ls,arr):\n",
    "    \"\"\"\n",
    "    将node list 转换为 list of {name : node}   \n",
    "    将link array 转换为 list of {'source':arr[i][0],'target':arr[i][1],'value': int(arr[i][2])} \n",
    "    return A tuple\n",
    "    \"\"\"\n",
    "    k_lst, v_lst = [], []\n",
    "    i=0\n",
    "#     k_dict= {}\n",
    "    if isinstance(ls, list):\n",
    "        for s in ls:\n",
    "            k_dict = {'name': str(s)}       ## use \n",
    "            k_lst.append(k_dict)\n",
    "        for row in arr:\n",
    "            v_dict = {'source':arr[i][0],'target':arr[i][1],'value': float(arr[i][2])}   ##intge/float in value\n",
    "            v_lst.append(v_dict)\n",
    "            i += 1\n",
    "    return k_lst, v_lst"
   ]
  },
  {
   "cell_type": "markdown",
   "metadata": {},
   "source": [
    "### 1.read data from excel file"
   ]
  },
  {
   "cell_type": "code",
   "execution_count": 3,
   "metadata": {},
   "outputs": [],
   "source": [
    "df1=pd.read_excel('C:/Users/zihao/OneDrive/Project/Project/00 campus transit/paper/LR (version 2).xlsx',sheet_name='Sheet6')"
   ]
  },
  {
   "cell_type": "code",
   "execution_count": 51,
   "metadata": {},
   "outputs": [],
   "source": [
    "ls_key1 = df1['1.paper key'][0:].tolist()"
   ]
  },
  {
   "cell_type": "code",
   "execution_count": 52,
   "metadata": {},
   "outputs": [],
   "source": [
    "ls_key2 = df1['2.takeaway '][0:].tolist()"
   ]
  },
  {
   "cell_type": "code",
   "execution_count": 56,
   "metadata": {
    "scrolled": true
   },
   "outputs": [],
   "source": [
    "ls_point = df1['4.1 point1'][0:].tolist()\n",
    "ls_point2 = df1['4..2 point2'][0:].tolist()\n",
    "ls_sup = df1['3.supplements'][0:].tolist()"
   ]
  },
  {
   "cell_type": "code",
   "execution_count": null,
   "metadata": {},
   "outputs": [],
   "source": [
    "# #GroupBy with MultiIndex \n",
    "# arrays = [ls_key1,ls_key2] \n",
    "# index = pd.MultiIndex.from_arrays(arrays, names=['first', 'second'])\n",
    "# s = pd.Series(ls_point, index=index)"
   ]
  },
  {
   "cell_type": "code",
   "execution_count": null,
   "metadata": {},
   "outputs": [],
   "source": [
    "### 2-3 节点 和 节点关系\n",
    "##    unifying emlements in list(set(ls_sup))\n",
    "\n",
    "list_node_value = list(set(ls_key1)) + ls_key2 + list(set(ls_point)) + list(set(ls_sup)) + list(set(ls_point2))\n",
    "\n",
    "array1 = [ls_key1,ls_key2,[1]*len(ls_key1)]\n",
    "array2 = [ls_key2,ls_point,[1]*len(ls_key1)]\n",
    "\n",
    "array3 = [ls_key2,ls_sup,[1]*len(ls_key1)]        ### links to 3.supplements\n",
    "array4 = [ls_key2,ls_point2,[1]*len(ls_key1)]        ### links to 3.supplements"
   ]
  },
  {
   "cell_type": "code",
   "execution_count": null,
   "metadata": {},
   "outputs": [],
   "source": [
    "#vertically\n",
    "import numpy as np\n",
    "\n",
    "array =np.concatenate((array1,array2,array3,array4), axis=1)\n",
    "array_t = array.transpose()"
   ]
  },
  {
   "cell_type": "markdown",
   "metadata": {},
   "source": [
    "### 2.get inputs from dataframe"
   ]
  },
  {
   "cell_type": "code",
   "execution_count": null,
   "metadata": {},
   "outputs": [],
   "source": [
    "\n",
    "### use Cnode_link to do \n",
    "tuple_nl =Cnode_link(list_node_value,array_t)\n",
    "nodes = tuple_nl[0]\n",
    "links_nan = tuple_nl[1]\n"
   ]
  },
  {
   "cell_type": "code",
   "execution_count": null,
   "metadata": {},
   "outputs": [],
   "source": [
    "### del nan value in dict\n",
    "def  drop_na_dicLis (links_nan):\n",
    "    links =[]\n",
    "    for i in range(0,len(links_nan)):    \n",
    "        if  \"nan\" not in links_nan[i].values() and np.nan not in links_nan[i].values():\n",
    "            links.append(links_nan[i])\n",
    "    return links\n",
    "\n",
    "def unify_pair(nodes):\n",
    "    tmp=[]\n",
    "    for i in nodes:\n",
    "        if i not in tmp:\n",
    "            tmp.append(i)        \n",
    "    return tmp"
   ]
  },
  {
   "cell_type": "code",
   "execution_count": null,
   "metadata": {},
   "outputs": [],
   "source": [
    "nodes = drop_na_dicLis (unify_pair(nodes))         ##### unifying list and delete nan"
   ]
  },
  {
   "cell_type": "code",
   "execution_count": null,
   "metadata": {},
   "outputs": [],
   "source": [
    "links = drop_na_dicLis (links_nan)                           #### drop nan in list"
   ]
  },
  {
   "cell_type": "markdown",
   "metadata": {},
   "source": [
    "### 3.generate sankey chart with basic input"
   ]
  },
  {
   "cell_type": "code",
   "execution_count": null,
   "metadata": {
    "scrolled": false
   },
   "outputs": [],
   "source": [
    "sankey = Sankey(width=1600,height=800)\n",
    "sankey.add(\"sankey\", nodes, links, line_opacity=0.2,\n",
    "           line_curve=0.5, line_color='source',\n",
    "           is_label_show=True, label_pos='right'\n",
    "              )\n",
    "sankey.render()\n",
    "sankey"
   ]
  },
  {
   "cell_type": "code",
   "execution_count": null,
   "metadata": {},
   "outputs": [],
   "source": []
  }
 ],
 "metadata": {
  "kernelspec": {
   "display_name": "Python 3",
   "language": "python",
   "name": "python3"
  },
  "language_info": {
   "codemirror_mode": {
    "name": "ipython",
    "version": 3
   },
   "file_extension": ".py",
   "mimetype": "text/x-python",
   "name": "python",
   "nbconvert_exporter": "python",
   "pygments_lexer": "ipython3",
   "version": "3.6.4"
  }
 },
 "nbformat": 4,
 "nbformat_minor": 2
}
