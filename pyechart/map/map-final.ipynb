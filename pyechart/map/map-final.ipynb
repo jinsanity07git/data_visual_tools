{
 "cells": [
  {
   "cell_type": "markdown",
   "metadata": {},
   "source": [
    "### 1.install map package for first time use\n",
    "http://pyecharts.org/#/zh-cn/customize_map\n"
   ]
  },
  {
   "cell_type": "code",
   "execution_count": 28,
   "metadata": {},
   "outputs": [],
   "source": [
    "# import sys\n",
    "# !{sys.executable} -m  pip install echarts-countries-pypkg\n",
    "# !{sys.executable} -m  pip install echarts-china-provinces-pypkg\n",
    "# !{sys.executable} -m  pip install echarts-china-cities-pypkg\n",
    "# !{sys.executable} -m  pip install echarts-china-counties-pypkg\n",
    "# !{sys.executable} -m  pip install echarts-china-misc-pypkg"
   ]
  },
  {
   "cell_type": "markdown",
   "metadata": {},
   "source": [
    "### 2.reboot jupyter notebook\n"
   ]
  },
  {
   "cell_type": "code",
   "execution_count": 29,
   "metadata": {},
   "outputs": [],
   "source": [
    "# -*- coding: utf-8 -*-\n",
    "\"\"\"\n",
    "Created on Tue Jun 12 14:10:38 2018\n",
    "\n",
    "@author: jinsa_2cyyutj\n",
    "# \"\"\"\n",
    "import pandas as pd\n",
    "from pyecharts import Map"
   ]
  },
  {
   "cell_type": "code",
   "execution_count": 30,
   "metadata": {},
   "outputs": [],
   "source": [
    "## inputs  in instruction page to determine sheetname& map type\n",
    "input_fname = 'inputs.xlsx'\n",
    "df_inst = pd.read_excel(input_fname,sheet_name ='说明页',header = None)     \n",
    "Sheet_name = df_inst[2][3]              ## read map type for initialting sheet_name\n",
    "\n",
    "###  inputs: 1.图形初始化  \n",
    "df1=pd.read_excel(input_fname,sheet_name =Sheet_name,header = None)\n",
    "ls1 = df1[0][4:18].tolist()\n",
    "Type,title,subtitle,width,height,title_pos,title_top,title_color,subtitle_color,title_text_size,subtitle_text_size,background_color,page_title,renderer = ([] for i in range(14))\n",
    "Type,title,subtitle,width,height,title_pos,title_top,title_color,subtitle_color,title_text_size,subtitle_text_size,background_color,page_title,renderer = ls1\n",
    "### read Type to pass as an agrument in map, under a slected  sheet\n",
    "Map_type = Type\n",
    "\n"
   ]
  },
  {
   "cell_type": "code",
   "execution_count": 31,
   "metadata": {},
   "outputs": [],
   "source": [
    "## inputs: 2.地名和数值\n",
    "name = df1[3][5:].dropna().tolist() ##      3 地名\n",
    "value = df1[4][5:].dropna().tolist() ##     4 数值\n",
    "## inputs: 3.显示区域热力图\n",
    "ls3 = df1[8][5:8].tolist()\n",
    "is_visualmap,visual_range,is_label_show = ([] for i in range(3))      ### define var\n",
    "is_visualmap,visual_range,is_label_show = ls3                         ### assign value"
   ]
  },
  {
   "cell_type": "code",
   "execution_count": 33,
   "metadata": {},
   "outputs": [
    {
     "data": {
      "text/plain": [
       "'[0,500]'"
      ]
     },
     "execution_count": 33,
     "metadata": {},
     "output_type": "execute_result"
    }
   ],
   "source": [
    "visual_range"
   ]
  },
  {
   "cell_type": "markdown",
   "metadata": {},
   "source": [
    "### Converting a string representation of a list into an actual list object [duplicate]\n",
    "https://stackoverflow.com/questions/10775894/converting-a-string-representation-of-a-list-into-an-actual-list-object\n",
    "eval(visual_range)"
   ]
  },
  {
   "cell_type": "code",
   "execution_count": 34,
   "metadata": {},
   "outputs": [],
   "source": [
    "### generate map\n",
    "map = Map(title,subtitle,width=width,height=height,\n",
    "           title_pos=title_pos,title_top=title_top,title_color=title_color,\n",
    "            subtitle_color=subtitle_color,title_text_size=title_text_size,\n",
    "            subtitle_text_size=subtitle_text_size,background_color=background_color,\n",
    "            page_title=page_title,renderer= renderer)\n",
    "map.add(\"\", name, value, maptype=Map_type,\n",
    "        is_visualmap=is_visualmap,                  ##  VisualMap 组件\n",
    "        is_label_show =is_label_show ,\n",
    "#          is_piecewise=True,\n",
    "#         visual_text_color=\"#999\",\n",
    "#         visual_range_text=[\"200\", \"0\"],\n",
    "        visual_range =  eval(visual_range)            ##设置 指定组件的允许的最小值与最大值。默认为 [0, 100]  ### convet string to list\n",
    "       )\n",
    "\n",
    "map.render(title+'.html')"
   ]
  },
  {
   "cell_type": "code",
   "execution_count": 35,
   "metadata": {},
   "outputs": [
    {
     "data": {
      "text/html": [
       "<script>\n",
       "    require.config({\n",
       "        paths: {\n",
       "            'echarts': '/nbextensions/echarts/echarts.min', 'zhejiang': '/nbextensions/echarts-china-provinces-js/zhejiang'\n",
       "        }\n",
       "    });\n",
       "</script>\n",
       "    <div id=\"f075cbefffb34c15a6ec799e6cba0a1e\" style=\"width:800px;height:600px;\"></div>\n",
       "\n",
       "\n",
       "<script>\n",
       "    require(['echarts', 'zhejiang'], function(echarts) {\n",
       "        \n",
       "var myChart_f075cbefffb34c15a6ec799e6cba0a1e = echarts.init(document.getElementById('f075cbefffb34c15a6ec799e6cba0a1e'), 'light', {renderer: 'canvas'});\n",
       "\n",
       "var option_f075cbefffb34c15a6ec799e6cba0a1e = {\n",
       "    \"title\": [\n",
       "        {\n",
       "            \"text\": \"\\u7701\\u4efd\\u5730\\u56fe\\u793a\\u4f8b\",\n",
       "            \"subtext\": NaN,\n",
       "            \"left\": \"left\",\n",
       "            \"top\": \"top\",\n",
       "            \"textStyle\": {\n",
       "                \"color\": \"#000\",\n",
       "                \"fontSize\": 18\n",
       "            },\n",
       "            \"subtextStyle\": {\n",
       "                \"color\": \"#aaa\",\n",
       "                \"fontSize\": 12\n",
       "            }\n",
       "        }\n",
       "    ],\n",
       "    \"toolbox\": {\n",
       "        \"show\": true,\n",
       "        \"orient\": \"vertical\",\n",
       "        \"left\": \"95%\",\n",
       "        \"top\": \"center\",\n",
       "        \"feature\": {\n",
       "            \"saveAsImage\": {\n",
       "                \"show\": true,\n",
       "                \"title\": \"\\u4e0b\\u8f7d\\u56fe\\u7247\"\n",
       "            },\n",
       "            \"restore\": {\n",
       "                \"show\": true\n",
       "            },\n",
       "            \"dataView\": {\n",
       "                \"show\": true\n",
       "            }\n",
       "        }\n",
       "    },\n",
       "    \"series_id\": 6156658,\n",
       "    \"tooltip\": {\n",
       "        \"trigger\": \"item\",\n",
       "        \"triggerOn\": \"mousemove|click\",\n",
       "        \"axisPointer\": {\n",
       "            \"type\": \"line\"\n",
       "        },\n",
       "        \"textStyle\": {\n",
       "            \"fontSize\": 14\n",
       "        },\n",
       "        \"backgroundColor\": \"rgba(50,50,50,0.7)\",\n",
       "        \"borderColor\": \"#333\",\n",
       "        \"borderWidth\": 0\n",
       "    },\n",
       "    \"series\": [\n",
       "        {\n",
       "            \"type\": \"map\",\n",
       "            \"symbol\": \"circle\",\n",
       "            \"label\": {\n",
       "                \"normal\": {\n",
       "                    \"show\": \"Ture\",\n",
       "                    \"position\": \"top\",\n",
       "                    \"textStyle\": {\n",
       "                        \"fontSize\": 12\n",
       "                    }\n",
       "                },\n",
       "                \"emphasis\": {\n",
       "                    \"show\": true,\n",
       "                    \"textStyle\": {\n",
       "                        \"fontSize\": 12\n",
       "                    }\n",
       "                }\n",
       "            },\n",
       "            \"mapType\": \"\\u6d59\\u6c5f\",\n",
       "            \"data\": [\n",
       "                {\n",
       "                    \"name\": \"\\u91d1\\u534e\\u5e02\",\n",
       "                    \"value\": 50\n",
       "                },\n",
       "                {\n",
       "                    \"name\": \"\\u676d\\u5dde\\u5e02\",\n",
       "                    \"value\": 400\n",
       "                },\n",
       "                {\n",
       "                    \"name\": \"\\u5b81\\u6ce2\\u5e02\",\n",
       "                    \"value\": 20\n",
       "                },\n",
       "                {\n",
       "                    \"name\": \"\\u6e29\\u5dde\\u5e02\",\n",
       "                    \"value\": 7\n",
       "                },\n",
       "                {\n",
       "                    \"name\": \"\\u7ecd\\u5174\\u5e02\",\n",
       "                    \"value\": 300\n",
       "                }\n",
       "            ],\n",
       "            \"roam\": true,\n",
       "            \"showLegendSymbol\": true\n",
       "        }\n",
       "    ],\n",
       "    \"legend\": [\n",
       "        {\n",
       "            \"data\": [\n",
       "                \"\"\n",
       "            ],\n",
       "            \"selectedMode\": \"multiple\",\n",
       "            \"show\": true,\n",
       "            \"left\": \"center\",\n",
       "            \"top\": \"top\",\n",
       "            \"orient\": \"horizontal\",\n",
       "            \"textStyle\": {\n",
       "                \"fontSize\": 12\n",
       "            }\n",
       "        }\n",
       "    ],\n",
       "    \"backgroundColor\": \"#fff\",\n",
       "    \"color\": [\n",
       "        \"#c23531\",\n",
       "        \"#2f4554\",\n",
       "        \"#61a0a8\",\n",
       "        \"#d48265\",\n",
       "        \"#749f83\",\n",
       "        \"#ca8622\",\n",
       "        \"#bda29a\",\n",
       "        \"#6e7074\",\n",
       "        \"#546570\",\n",
       "        \"#c4ccd3\",\n",
       "        \"#f05b72\",\n",
       "        \"#ef5b9c\",\n",
       "        \"#f47920\",\n",
       "        \"#905a3d\",\n",
       "        \"#fab27b\",\n",
       "        \"#2a5caa\",\n",
       "        \"#444693\",\n",
       "        \"#726930\",\n",
       "        \"#b2d235\",\n",
       "        \"#6d8346\",\n",
       "        \"#ac6767\",\n",
       "        \"#1d953f\",\n",
       "        \"#6950a1\",\n",
       "        \"#918597\",\n",
       "        \"#f6f5ec\"\n",
       "    ],\n",
       "    \"visualMap\": {\n",
       "        \"type\": \"continuous\",\n",
       "        \"min\": 0,\n",
       "        \"max\": 500,\n",
       "        \"text\": [\n",
       "            \"high\",\n",
       "            \"low\"\n",
       "        ],\n",
       "        \"textStyle\": {},\n",
       "        \"inRange\": {\n",
       "            \"color\": [\n",
       "                \"#50a3ba\",\n",
       "                \"#eac763\",\n",
       "                \"#d94e5d\"\n",
       "            ]\n",
       "        },\n",
       "        \"calculable\": true,\n",
       "        \"splitNumber\": 5,\n",
       "        \"orient\": \"vertical\",\n",
       "        \"left\": \"left\",\n",
       "        \"top\": \"bottom\",\n",
       "        \"showLabel\": true\n",
       "    }\n",
       "};\n",
       "myChart_f075cbefffb34c15a6ec799e6cba0a1e.setOption(option_f075cbefffb34c15a6ec799e6cba0a1e);\n",
       "\n",
       "    });\n",
       "</script>\n"
      ],
      "text/plain": [
       "<pyecharts.charts.map.Map at 0x2165f872048>"
      ]
     },
     "execution_count": 35,
     "metadata": {},
     "output_type": "execute_result"
    }
   ],
   "source": [
    "map"
   ]
  },
  {
   "cell_type": "code",
   "execution_count": null,
   "metadata": {},
   "outputs": [],
   "source": []
  }
 ],
 "metadata": {
  "kernelspec": {
   "display_name": "Python 3",
   "language": "python",
   "name": "python3"
  },
  "language_info": {
   "codemirror_mode": {
    "name": "ipython",
    "version": 3
   },
   "file_extension": ".py",
   "mimetype": "text/x-python",
   "name": "python",
   "nbconvert_exporter": "python",
   "pygments_lexer": "ipython3",
   "version": "3.6.4"
  }
 },
 "nbformat": 4,
 "nbformat_minor": 2
}
