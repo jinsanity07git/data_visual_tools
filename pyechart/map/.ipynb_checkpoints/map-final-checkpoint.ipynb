{
 "cells": [
  {
   "cell_type": "markdown",
   "metadata": {},
   "source": [
    "### 1.install map package for first time use\n",
    "http://pyecharts.org/#/zh-cn/customize_map\n"
   ]
  },
  {
   "cell_type": "code",
   "execution_count": 28,
   "metadata": {},
   "outputs": [],
   "source": [
    "# import sys\n",
    "# !{sys.executable} -m  pip install echarts-countries-pypkg\n",
    "# !{sys.executable} -m  pip install echarts-china-provinces-pypkg\n",
    "# !{sys.executable} -m  pip install echarts-china-cities-pypkg\n",
    "# !{sys.executable} -m  pip install echarts-china-counties-pypkg\n",
    "# !{sys.executable} -m  pip install echarts-china-misc-pypkg"
   ]
  },
  {
   "cell_type": "markdown",
   "metadata": {},
   "source": [
    "### 2.reboot jupyter notebook\n"
   ]
  },
  {
   "cell_type": "code",
   "execution_count": 29,
   "metadata": {},
   "outputs": [],
   "source": [
    "# -*- coding: utf-8 -*-\n",
    "\"\"\"\n",
    "Created on Tue Jun 12 14:10:38 2018\n",
    "\n",
    "@author: jinsa_2cyyutj\n",
    "# \"\"\"\n",
    "import pandas as pd\n",
    "from pyecharts import Map"
   ]
  },
  {
   "cell_type": "code",
   "execution_count": 30,
   "metadata": {},
   "outputs": [],
   "source": [
    "## inputs  in instruction page to determine sheetname& map type\n",
    "input_fname = 'inputs.xlsx'\n",
    "df_inst = pd.read_excel(input_fname,sheet_name ='说明页',header = None)     \n",
    "Sheet_name = df_inst[2][3]              ## read map type for initialting sheet_name\n",
    "\n",
    "###  inputs: 1.图形初始化  \n",
    "df1=pd.read_excel(input_fname,sheet_name =Sheet_name,header = None)\n",
    "ls1 = df1[0][4:18].tolist()\n",
    "Type,title,subtitle,width,height,title_pos,title_top,title_color,subtitle_color,title_text_size,subtitle_text_size,background_color,page_title,renderer = ([] for i in range(14))\n",
    "Type,title,subtitle,width,height,title_pos,title_top,title_color,subtitle_color,title_text_size,subtitle_text_size,background_color,page_title,renderer = ls1\n",
    "### read Type to pass as an agrument in map, under a slected  sheet\n",
    "Map_type = Type\n",
    "\n"
   ]
  },
  {
   "cell_type": "code",
   "execution_count": 31,
   "metadata": {},
   "outputs": [],
   "source": [
    "## inputs: 2.地名和数值\n",
    "name = df1[3][5:].dropna().tolist() ##      3 地名\n",
    "value = df1[4][5:].dropna().tolist() ##     4 数值\n",
    "## inputs: 3.显示区域热力图\n",
    "ls3 = df1[8][5:8].tolist()\n",
    "is_visualmap,visual_range,is_label_show = ([] for i in range(3))      ### define var\n",
    "is_visualmap,visual_range,is_label_show = ls3                         ### assign value"
   ]
  },
  {
   "cell_type": "code",
   "execution_count": 33,
   "metadata": {},
   "outputs": [
    {
     "data": {
      "text/plain": [
       "'[0,500]'"
      ]
     },
     "execution_count": 33,
     "metadata": {},
     "output_type": "execute_result"
    }
   ],
   "source": [
    "visual_range"
   ]
  },
  {
   "cell_type": "markdown",
   "metadata": {},
   "source": [
    "### Converting a string representation of a list into an actual list object [duplicate]\n",
    "https://stackoverflow.com/questions/10775894/converting-a-string-representation-of-a-list-into-an-actual-list-object\n",
    "eval(visual_range)"
   ]
  },
  {
   "cell_type": "code",
   "execution_count": 32,
   "metadata": {},
   "outputs": [
    {
     "ename": "SyntaxError",
     "evalue": "invalid syntax (<ipython-input-32-f4f3fd424a3a>, line 13)",
     "output_type": "error",
     "traceback": [
      "\u001b[1;36m  File \u001b[1;32m\"<ipython-input-32-f4f3fd424a3a>\"\u001b[1;36m, line \u001b[1;32m13\u001b[0m\n\u001b[1;33m    visual_range =  eval(visual_range)            ##设置 指定组件的允许的最小值与最大值。默认为 [0, 100]  ### convet string to list\u001b[0m\n\u001b[1;37m               ^\u001b[0m\n\u001b[1;31mSyntaxError\u001b[0m\u001b[1;31m:\u001b[0m invalid syntax\n"
     ]
    }
   ],
   "source": [
    "### generate map\n",
    "map = Map(title,subtitle,width=width,height=height,\n",
    "           title_pos=title_pos,title_top=title_top,title_color=title_color,\n",
    "            subtitle_color=subtitle_color,title_text_size=title_text_size,\n",
    "            subtitle_text_size=subtitle_text_size,background_color=background_color,\n",
    "            page_title=page_title,renderer= renderer)\n",
    "map.add(\"\", name, value, maptype=Map_type,\n",
    "        is_visualmap=is_visualmap,                  ##  VisualMap 组件\n",
    "        is_label_show =is_label_show ,\n",
    "#          is_piecewise=True,\n",
    "#         visual_text_color=\"#999\",\n",
    "#         visual_range_text=[\"200\", \"0\"],\n",
    "        visual_range =  eval(visual_range)            ##设置 指定组件的允许的最小值与最大值。默认为 [0, 100]  ### convet string to list\n",
    "       )\n",
    "\n",
    "map.render(title+'.html')"
   ]
  },
  {
   "cell_type": "code",
   "execution_count": null,
   "metadata": {},
   "outputs": [],
   "source": [
    "map"
   ]
  },
  {
   "cell_type": "code",
   "execution_count": null,
   "metadata": {},
   "outputs": [],
   "source": []
  }
 ],
 "metadata": {
  "kernelspec": {
   "display_name": "Python 3",
   "language": "python",
   "name": "python3"
  },
  "language_info": {
   "codemirror_mode": {
    "name": "ipython",
    "version": 3
   },
   "file_extension": ".py",
   "mimetype": "text/x-python",
   "name": "python",
   "nbconvert_exporter": "python",
   "pygments_lexer": "ipython3",
   "version": "3.6.4"
  }
 },
 "nbformat": 4,
 "nbformat_minor": 2
}
